{
 "cells": [
  {
   "cell_type": "code",
   "execution_count": 1,
   "id": "1d19109c",
   "metadata": {},
   "outputs": [
    {
     "ename": "NameError",
     "evalue": "name 'np' is not defined",
     "output_type": "error",
     "traceback": [
      "\u001b[1;31m---------------------------------------------------------------------------\u001b[0m",
      "\u001b[1;31mNameError\u001b[0m                                 Traceback (most recent call last)",
      "Cell \u001b[1;32mIn[1], line 1\u001b[0m\n\u001b[1;32m----> 1\u001b[0m berPam4UncodedMATLAB_0_0_5_18 \u001b[38;5;241m=\u001b[39m np\u001b[38;5;241m.\u001b[39marray([\u001b[38;5;241m0.140980000000000\u001b[39m,\u001b[38;5;241m0.129900000000000\u001b[39m,\u001b[38;5;241m0.119000000000000\u001b[39m,\u001b[38;5;241m0.108270000000000\u001b[39m,\u001b[38;5;241m0.0977420000000000\u001b[39m,\u001b[38;5;241m0.0874510000000000\u001b[39m,\u001b[38;5;241m0.0774530000000000\u001b[39m,\u001b[38;5;241m0.0678180000000000\u001b[39m,\u001b[38;5;241m0.0586240000000000\u001b[39m,\u001b[38;5;241m0.0499550000000000\u001b[39m,\u001b[38;5;241m0.0418930000000000\u001b[39m,\u001b[38;5;241m0.0345110000000000\u001b[39m,\u001b[38;5;241m0.0278710000000000\u001b[39m,\u001b[38;5;241m0.0220160000000000\u001b[39m,\u001b[38;5;241m0.0169670000000000\u001b[39m,\u001b[38;5;241m0.0127200000000000\u001b[39m,\u001b[38;5;241m0.00924720000000000\u001b[39m,\u001b[38;5;241m0.00649530000000000\u001b[39m,\u001b[38;5;241m0.00439030000000000\u001b[39m,\u001b[38;5;241m0.00284270000000000\u001b[39m,\u001b[38;5;241m0.00175420000000000\u001b[39m,\u001b[38;5;241m0.00102570000000000\u001b[39m,\u001b[38;5;241m0.000564710000000000\u001b[39m,\u001b[38;5;241m0.000290600000000000\u001b[39m,\u001b[38;5;241m0.000138660000000000\u001b[39m,\u001b[38;5;241m6.07860000000000e-05\u001b[39m,\u001b[38;5;241m2.42340000000000e-05\u001b[39m,\u001b[38;5;241m8.68610000000000e-06\u001b[39m,\u001b[38;5;241m2.76320000000000e-06\u001b[39m,\u001b[38;5;241m7.68970000000000e-07\u001b[39m,\u001b[38;5;241m1.84190000000000e-07\u001b[39m,\u001b[38;5;241m3.72860000000000e-08\u001b[39m,\u001b[38;5;241m6.25020000000000e-09\u001b[39m,\u001b[38;5;241m8.47880000000000e-10\u001b[39m,\u001b[38;5;241m9.07160000000000e-11\u001b[39m,\u001b[38;5;241m7.43680000000000e-12\u001b[39m,\u001b[38;5;241m4.52230000000000e-13\u001b[39m])\n\u001b[0;32m      2\u001b[0m ebn0 \u001b[38;5;241m=\u001b[39m np\u001b[38;5;241m.\u001b[39marange(\u001b[38;5;241m0\u001b[39m,\u001b[38;5;241m18.5\u001b[39m,\u001b[38;5;241m0.5\u001b[39m)\n",
      "\u001b[1;31mNameError\u001b[0m: name 'np' is not defined"
     ]
    }
   ],
   "source": [
    "berPam4UncodedMATLAB_0_0_5_18 = np.array([0.140980000000000,0.129900000000000,0.119000000000000,0.108270000000000,0.0977420000000000,0.0874510000000000,0.0774530000000000,0.0678180000000000,0.0586240000000000,0.0499550000000000,0.0418930000000000,0.0345110000000000,0.0278710000000000,0.0220160000000000,0.0169670000000000,0.0127200000000000,0.00924720000000000,0.00649530000000000,0.00439030000000000,0.00284270000000000,0.00175420000000000,0.00102570000000000,0.000564710000000000,0.000290600000000000,0.000138660000000000,6.07860000000000e-05,2.42340000000000e-05,8.68610000000000e-06,2.76320000000000e-06,7.68970000000000e-07,1.84190000000000e-07,3.72860000000000e-08,6.25020000000000e-09,8.47880000000000e-10,9.07160000000000e-11,7.43680000000000e-12,4.52230000000000e-13])\n",
    "ebn0 = np.arange(0,18.5,0.5)"
   ]
  },
  {
   "cell_type": "markdown",
   "id": "128887cf",
   "metadata": {},
   "source": [
    "![title](./pam4MATLAB.png)"
   ]
  },
  {
   "cell_type": "code",
   "execution_count": 2,
   "id": "1bf0f778",
   "metadata": {},
   "outputs": [
    {
     "name": "stdout",
     "output_type": "stream",
     "text": [
      "17\n",
      "1.0\n",
      "0.5186678792267406\n"
     ]
    },
    {
     "ename": "ValueError",
     "evalue": "too many values to unpack (expected 2)",
     "output_type": "error",
     "traceback": [
      "\u001b[1;31m---------------------------------------------------------------------------\u001b[0m",
      "\u001b[1;31mValueError\u001b[0m                                Traceback (most recent call last)",
      "Cell \u001b[1;32mIn[2], line 60\u001b[0m\n\u001b[0;32m     58\u001b[0m \u001b[38;5;66;03m# decode received signal + noise\u001b[39;00m\n\u001b[0;32m     59\u001b[0m y \u001b[38;5;241m=\u001b[39m np\u001b[38;5;241m.\u001b[39msign(x)\n\u001b[1;32m---> 60\u001b[0m pam4SymbolsNoGrayCoding, error \u001b[38;5;241m=\u001b[39m mf\u001b[38;5;241m.\u001b[39mpam4Slice(noisyDataNoGrayCoding)\n\u001b[0;32m     61\u001b[0m pam4SymbolsGrayCoded, error \u001b[38;5;241m=\u001b[39m mf\u001b[38;5;241m.\u001b[39mpam4Slice(noisyDataGrayCoded)\n\u001b[0;32m     63\u001b[0m dataRxNoGrayCoding \u001b[38;5;241m=\u001b[39m mf\u001b[38;5;241m.\u001b[39mpam4SymbolsToBits(pam4SymbolsNoGrayCoding, grayCoded\u001b[38;5;241m=\u001b[39m \u001b[38;5;28;01mFalse\u001b[39;00m)\n",
      "\u001b[1;31mValueError\u001b[0m: too many values to unpack (expected 2)"
     ]
    }
   ],
   "source": [
    "# The following is based on https://scipy-cookbook.readthedocs.io/items/CommTheory.html\n",
    "import os, sys\n",
    "ieeeProjectDir = os.environ.get('IEEE8023')\n",
    "if ieeeProjectDir == None: \n",
    "     ieeeProjectDir = \"c:/users/omer/802.3/\"\n",
    "sys.path.insert(0, ieeeProjectDir)\n",
    "import numpy as np\n",
    "import modulationFunctions as mf\n",
    "from scipy.special import erfc\n",
    "import matplotlib.pyplot as plt\n",
    "berPam2MATLAB_0_1_16 = np.array([0.0786500000000000,0.0562820000000000,0.0375060000000000,0.0228780000000000,0.0125010000000000,0.00595390000000000,0.00238830000000000,0.000772670000000000,0.000190910000000000,3.36270000000000e-05,3.87210000000000e-06,2.61310000000000e-07,9.00600000000000e-09,1.33290000000000e-10,6.81020000000000e-13,9.12400000000000e-16,2.26740000000000e-19])\n",
    "berPam4MATLAB_0_1_16 = np.array([0.140980000000000,0.119000000000000,0.0977420000000000,0.0774530000000000,0.0586240000000000,0.0418930000000000,0.0278710000000000,0.0169670000000000,0.00924720000000000,0.00439030000000000,0.00175420000000000,0.000564710000000000,0.000138660000000000,2.42340000000000e-05,2.76320000000000e-06,1.84190000000000e-07,6.25020000000000e-09])\n",
    "\n",
    "SNR_MIN     = 0\n",
    "SNR_MAX     = 16\n",
    "M = 4 # Number of PAM levels\n",
    "pam4SymbolPowerAverage = 1/4 * (1 + 1 + (2/3)**2 + (-2/3)**2)\n",
    "EbN0_dB    = np.arange(SNR_MIN,SNR_MAX+1,1)\n",
    "print(len(EbN0_dB))\n",
    "EbN0_linear        = 10**(EbN0_dB/10.0)  # linear SNR\n",
    "\n",
    "Pe          = np.empty(EbN0_linear.shape)\n",
    "BER         = np.empty(EbN0_linear.shape)\n",
    "PePam4          = np.empty(EbN0_linear.shape)\n",
    "BerStatsPam4GrayCoded         = np.empty(EbN0_linear.shape)\n",
    "BerStatsPam4NoGrayCoding      = np.empty(EbN0_linear.shape)\n",
    "\n",
    "loop = 0\n",
    "for snr in EbN0_linear:      # SNR loop\n",
    "    Pe[loop] = 0.5*erfc(np.sqrt(snr))\n",
    "    pam4Factor = np.sqrt((2/3)**2)\n",
    "    x = np.sqrt(snr ) #np.sqrt( 6 * np.log2(M) * (1/(M*M- 1)) *snr)\n",
    "    print(x)\n",
    "    y = (2*(M-1)/M)\n",
    "    PePam4[loop] =y  *erfc(pam4Factor * x) # \n",
    "    print(PePam4[loop])\n",
    "    #VEC_SIZE = np.int32(10 * np.ceil(100/Pe[loop]))  # vector length is a function of Pe\n",
    "    VEC_SIZE = 10000\n",
    "    # signal vector, new vector for each SNR value\n",
    "    data = np.random.randint(low = 0, high = 2, size = VEC_SIZE)\n",
    "    s = 2 * data - 1\n",
    "    modulatedDataNoGrayCoding, pam4SymbolsNoGrayCoding, _ = mf.modulatePAM4(data, grayCoding=False, precoding=False)\n",
    "    modulatedDataGrayCoded, pam4SymbolsGrayCoded, _ = mf.modulatePAM4(data, grayCoding=True, precoding=False)\n",
    "        \n",
    "    # linear power of the noise; average signal power = 1\n",
    "    No = 1.0/snr\n",
    "\n",
    "    # noise\n",
    "    n = np.sqrt(No/2)*np.random.randn(VEC_SIZE)\n",
    "    noisePam4 = pam4Factor * (1/snr) * np.random.randn(len(modulatedDataNoGrayCoding))    \n",
    "\n",
    "    # signal + noise\n",
    "    x = s + n\n",
    "    noisyDataNoGrayCoding = modulatedDataNoGrayCoding + noisePam4\n",
    "    noisyDataGrayCoded = modulatedDataGrayCoded + noisePam4\n",
    "     \n",
    "\n",
    "    # decode received signal + noise\n",
    "    y = np.sign(x)\n",
    "    pam4SymbolsNoGrayCoding, error = mf.pam4Slice(noisyDataNoGrayCoding)\n",
    "    pam4SymbolsGrayCoded, error = mf.pam4Slice(noisyDataGrayCoded)\n",
    "    \n",
    "    dataRxNoGrayCoding = mf.pam4SymbolsToBits(pam4SymbolsNoGrayCoding, grayCoded= False)\n",
    "    dataRxGrayCoded = mf.pam4SymbolsToBits(pam4SymbolsGrayCoded, grayCoded= True)\n",
    "    \n",
    "\n",
    "    # find erroneous symbols\n",
    "    err = np.where(y != s)\n",
    "    error_sum = float(len(err[0]))\n",
    "    berPam4GrayCoded = np.sum(dataRxGrayCoded != data) / VEC_SIZE\n",
    "    berPam4NoGrayCoding = np.sum(dataRxNoGrayCoding != data) / VEC_SIZE\n",
    "    BerStatsPam4GrayCoded[loop] = berPam4GrayCoded\n",
    "    BerStatsPam4NoGrayCoding[loop] = berPam4NoGrayCoding\n",
    "    BER[loop] = error_sum/VEC_SIZE\n",
    "    print ('Eb_No_dB=%4.2f, BER=%10.4e, Pe=%10.4e' % (EbN0_dB[loop], BER[loop], Pe[loop]))\n",
    "    loop += 1\n",
    "\n",
    "#plt.semilogy(Eb_No_dB, Pe,'r',Eb_No_dB, BER,'s')\n",
    "#plt.semilogy(EbN0_dB, Pe,'r',linewidth=2, label = \"Theoretical BER using erfc NRZ\")\n",
    "plt.semilogy(EbN0_dB, PePam4,'--r',linewidth=2, label = \"Theoretical BER using erfc PAM4\")\n",
    "#plt.semilogy(EbN0_dB, BER,'-s', label = \"Experimnetal ber NRZ\")\n",
    "#plt.semilogy(EbN0_dB, berPam2MATLAB_0_1_16, '+g', label = \"MATLAB extract NRZ\")\n",
    "plt.semilogy(EbN0_dB, berPam4MATLAB_0_1_16, '-g', label = \"MATLAB extract PAM4\")\n",
    "plt.semilogy(EbN0_dB, BerStatsPam4NoGrayCoding, '*r', label = \"Experimental BER no gray coding PAM4\")\n",
    "plt.semilogy(EbN0_dB, BerStatsPam4GrayCoded, '+r', label = \"Experimental BER WITH gray coding PAM4\")\n",
    "plt.grid(True)\n",
    "plt.legend()\n",
    "plt.xlabel('Eb/No (dB)')\n",
    "plt.ylabel('BER')\n",
    "plt.show()"
   ]
  },
  {
   "cell_type": "code",
   "execution_count": null,
   "id": "c200874a",
   "metadata": {},
   "outputs": [],
   "source": [
    "\n",
    "   \n",
    "    "
   ]
  },
  {
   "cell_type": "code",
   "execution_count": null,
   "id": "636e052a",
   "metadata": {},
   "outputs": [],
   "source": [
    "berData = []\n",
    "L = 4\n",
    "factor = np.sqrt((L ** 2 - 1)/3) # For L == 4 This is the same (?) as (1)^2 + (-1)^2 + (1/3)^2 + (-1/3)^2\n",
    "factor = 1\n",
    "for e in ebn0:\n",
    "    berE = 0\n",
    "    data = LOCAL_PRNG.randint(low = 0, high = 2, size = SAMPLE_SIZE)\n",
    "    modulatedData, pam4Symbols, pam4SymbolsPrecoded = mf.modulatePAM4(data, grayCoding=False, precoding=False)\n",
    "    noisyData,_,_ = cf.additiveWhiteGaussianNoise(modulatedData, length = len(modulatedData), SNRdb = e * factor , prng = LOCAL_PRNG, d = 0.15)\n",
    "    pam4Symbols, error = mf.pam4Slice(noisyData)\n",
    "    dataRx = mf.pam4SymbolsToBits(pam4Symbols, grayCoded= False)\n",
    "    berE = np.sum(dataRx != data) / SAMPLE_SIZE\n",
    "    berData.append(berE)"
   ]
  },
  {
   "cell_type": "code",
   "execution_count": 3,
   "id": "e1bab444",
   "metadata": {},
   "outputs": [
    {
     "ename": "NameError",
     "evalue": "name 'ebn0' is not defined",
     "output_type": "error",
     "traceback": [
      "\u001b[1;31m---------------------------------------------------------------------------\u001b[0m",
      "\u001b[1;31mNameError\u001b[0m                                 Traceback (most recent call last)",
      "Cell \u001b[1;32mIn[3], line 2\u001b[0m\n\u001b[0;32m      1\u001b[0m fig, ax \u001b[38;5;241m=\u001b[39m plt\u001b[38;5;241m.\u001b[39msubplots()\n\u001b[1;32m----> 2\u001b[0m pam4Simulated \u001b[38;5;241m=\u001b[39m ax\u001b[38;5;241m.\u001b[39msemilogy(ebn0, np\u001b[38;5;241m.\u001b[39marray(berData), \u001b[38;5;124m'\u001b[39m\u001b[38;5;124m^b\u001b[39m\u001b[38;5;124m'\u001b[39m, linewidth \u001b[38;5;241m=\u001b[39m \u001b[38;5;241m2\u001b[39m, label \u001b[38;5;241m=\u001b[39m \u001b[38;5;124m'\u001b[39m\u001b[38;5;124mPAM 4 Uncoded simulated\u001b[39m\u001b[38;5;124m'\u001b[39m)\n\u001b[0;32m      3\u001b[0m pam4UncodedMatlab \u001b[38;5;241m=\u001b[39m ax\u001b[38;5;241m.\u001b[39msemilogy(ebn0, berPam4UncodedMATLAB, \u001b[38;5;124m'\u001b[39m\u001b[38;5;124m^r\u001b[39m\u001b[38;5;124m'\u001b[39m, linewidth \u001b[38;5;241m=\u001b[39m \u001b[38;5;241m2\u001b[39m, label \u001b[38;5;241m=\u001b[39m \u001b[38;5;124m'\u001b[39m\u001b[38;5;124mPAM 4 Uncoded MATLAB\u001b[39m\u001b[38;5;124m'\u001b[39m)\n\u001b[0;32m      4\u001b[0m ax\u001b[38;5;241m.\u001b[39mset_ylabel(\u001b[38;5;124m'\u001b[39m\u001b[38;5;124mOutput Bit Error Ratio (BER)\u001b[39m\u001b[38;5;124m'\u001b[39m,fontsize\u001b[38;5;241m=\u001b[39m\u001b[38;5;241m16\u001b[39m)\n",
      "\u001b[1;31mNameError\u001b[0m: name 'ebn0' is not defined"
     ]
    },
    {
     "data": {
      "image/png": "[encoded data removed]",
      "text/plain": [
       "<Figure size 640x480 with 1 Axes>"
      ]
     },
     "metadata": {},
     "output_type": "display_data"
    }
   ],
   "source": [
    "fig, ax = plt.subplots()\n",
    "pam4Simulated = ax.semilogy(ebn0, np.array(berData), '^b', linewidth = 2, label = 'PAM 4 Uncoded simulated')\n",
    "pam4UncodedMatlab = ax.semilogy(ebn0, berPam4UncodedMATLAB, '^r', linewidth = 2, label = 'PAM 4 Uncoded MATLAB')\n",
    "ax.set_ylabel('Output Bit Error Ratio (BER)',fontsize=16)\n",
    "ax.set_xlabel('Signal to noise ratio (SNR)',fontsize=16)\n",
    "ax.set_title(\"Alignment of PAM-4 uncoded to reproduction of MATLAB\")    \n",
    "ax.tick_params(axis='both',  labelsize=16)\n",
    "ax.grid(True, which=\"both\")\n",
    "ax.minorticks_on()\n",
    "plt.show()"
   ]
  },
  {
   "cell_type": "code",
   "execution_count": 4,
   "id": "354a8a0d",
   "metadata": {},
   "outputs": [
    {
     "ename": "NameError",
     "evalue": "name 'ebn0' is not defined",
     "output_type": "error",
     "traceback": [
      "\u001b[1;31m---------------------------------------------------------------------------\u001b[0m",
      "\u001b[1;31mNameError\u001b[0m                                 Traceback (most recent call last)",
      "Cell \u001b[1;32mIn[4], line 3\u001b[0m\n\u001b[0;32m      1\u001b[0m \u001b[38;5;66;03m# Now with gray coding\u001b[39;00m\n\u001b[0;32m      2\u001b[0m berGrayCoded \u001b[38;5;241m=\u001b[39m []\n\u001b[1;32m----> 3\u001b[0m \u001b[38;5;28;01mfor\u001b[39;00m e \u001b[38;5;129;01min\u001b[39;00m ebn0:\n\u001b[0;32m      4\u001b[0m     berE \u001b[38;5;241m=\u001b[39m \u001b[38;5;241m0\u001b[39m\n\u001b[0;32m      5\u001b[0m     data \u001b[38;5;241m=\u001b[39m LOCAL_PRNG\u001b[38;5;241m.\u001b[39mrandint(low \u001b[38;5;241m=\u001b[39m \u001b[38;5;241m0\u001b[39m, high \u001b[38;5;241m=\u001b[39m \u001b[38;5;241m2\u001b[39m, size \u001b[38;5;241m=\u001b[39m SAMPLE_SIZE)\n",
      "\u001b[1;31mNameError\u001b[0m: name 'ebn0' is not defined"
     ]
    }
   ],
   "source": [
    "# Now with gray coding\n",
    "berGrayCoded = []\n",
    "for e in ebn0:\n",
    "    berE = 0\n",
    "    data = LOCAL_PRNG.randint(low = 0, high = 2, size = SAMPLE_SIZE)\n",
    "    modulatedData, pam4Symbols, pam4SymbolsPrecoded = mf.modulatePAM4(data, grayCoding=True, precoding=False)\n",
    "    noisyData,_,_ = cf.additiveWhiteGaussianNoise(modulatedData, length = len(modulatedData), SNRdb = e * factor , prng = LOCAL_PRNG, d = 0.15)\n",
    "    pam4Symbols, error = mf.pam4Slice(noisyData)\n",
    "    dataRx = mf.pam4SymbolsToBits(pam4Symbols, grayCoded= True)\n",
    "    berE = np.sum(dataRx != data) / SAMPLE_SIZE\n",
    "    berGrayCoded.append(berE)"
   ]
  },
  {
   "cell_type": "code",
   "execution_count": 5,
   "id": "bee365d5",
   "metadata": {},
   "outputs": [
    {
     "ename": "NameError",
     "evalue": "name 'ebn0' is not defined",
     "output_type": "error",
     "traceback": [
      "\u001b[1;31m---------------------------------------------------------------------------\u001b[0m",
      "\u001b[1;31mNameError\u001b[0m                                 Traceback (most recent call last)",
      "Cell \u001b[1;32mIn[5], line 2\u001b[0m\n\u001b[0;32m      1\u001b[0m fig, ax \u001b[38;5;241m=\u001b[39m plt\u001b[38;5;241m.\u001b[39msubplots()\n\u001b[1;32m----> 2\u001b[0m pam4Simulated \u001b[38;5;241m=\u001b[39m ax\u001b[38;5;241m.\u001b[39msemilogy(ebn0, np\u001b[38;5;241m.\u001b[39marray(berData), \u001b[38;5;124m'\u001b[39m\u001b[38;5;124m^b\u001b[39m\u001b[38;5;124m'\u001b[39m, linewidth \u001b[38;5;241m=\u001b[39m \u001b[38;5;241m2\u001b[39m, label \u001b[38;5;241m=\u001b[39m \u001b[38;5;124m'\u001b[39m\u001b[38;5;124mPAM 4 Uncoded simulated\u001b[39m\u001b[38;5;124m'\u001b[39m)\n\u001b[0;32m      3\u001b[0m pam4GrayCodedSimulated \u001b[38;5;241m=\u001b[39m ax\u001b[38;5;241m.\u001b[39msemilogy(ebn0, np\u001b[38;5;241m.\u001b[39marray(berGrayCoded), \u001b[38;5;124m'\u001b[39m\u001b[38;5;124m*g\u001b[39m\u001b[38;5;124m'\u001b[39m, linewidth \u001b[38;5;241m=\u001b[39m \u001b[38;5;241m2\u001b[39m, label \u001b[38;5;241m=\u001b[39m \u001b[38;5;124m'\u001b[39m\u001b[38;5;124mPAM 4 Gray coded simulated\u001b[39m\u001b[38;5;124m'\u001b[39m)\n\u001b[0;32m      4\u001b[0m pam4UncodedMatlab \u001b[38;5;241m=\u001b[39m ax\u001b[38;5;241m.\u001b[39msemilogy(ebn0, berPam4UncodedMATLAB, \u001b[38;5;124m'\u001b[39m\u001b[38;5;124m^r\u001b[39m\u001b[38;5;124m'\u001b[39m, linewidth \u001b[38;5;241m=\u001b[39m \u001b[38;5;241m2\u001b[39m, label \u001b[38;5;241m=\u001b[39m \u001b[38;5;124m'\u001b[39m\u001b[38;5;124mPAM 4 Uncoded MATLAB\u001b[39m\u001b[38;5;124m'\u001b[39m)\n",
      "\u001b[1;31mNameError\u001b[0m: name 'ebn0' is not defined"
     ]
    },
    {
     "data": {
      "image/png": "[encoded data removed]",
      "text/plain": [
       "<Figure size 640x480 with 1 Axes>"
      ]
     },
     "metadata": {},
     "output_type": "display_data"
    }
   ],
   "source": [
    "fig, ax = plt.subplots()\n",
    "pam4Simulated = ax.semilogy(ebn0, np.array(berData), '^b', linewidth = 2, label = 'PAM 4 Uncoded simulated')\n",
    "pam4GrayCodedSimulated = ax.semilogy(ebn0, np.array(berGrayCoded), '*g', linewidth = 2, label = 'PAM 4 Gray coded simulated')\n",
    "pam4UncodedMatlab = ax.semilogy(ebn0, berPam4UncodedMATLAB, '^r', linewidth = 2, label = 'PAM 4 Uncoded MATLAB')\n",
    "ax.set_ylabel('Output Bit Error Ratio (BER)',fontsize=16)\n",
    "ax.set_xlabel('Signal to noise ratio (SNR)',fontsize=16)\n",
    "ax.set_title(\"Reproduction of MATLAB figure from MATLAB data\")    \n",
    "ax.tick_params(axis='both',  labelsize=16)\n",
    "ax.grid(True, which=\"both\")\n",
    "ax.minorticks_on()\n",
    "plt.show()"
   ]
  },
  {
   "cell_type": "code",
   "execution_count": 6,
   "id": "208c4df3",
   "metadata": {},
   "outputs": [],
   "source": [
    "sigma = np.flipud(np.arange(0.1, 0.73, 0.03))"
   ]
  },
  {
   "cell_type": "code",
   "execution_count": null,
   "id": "cc731dbe",
   "metadata": {},
   "outputs": [],
   "source": []
  },
  {
   "cell_type": "code",
   "execution_count": 7,
   "id": "122c71c3",
   "metadata": {},
   "outputs": [
    {
     "ename": "NameError",
     "evalue": "name 'LOCAL_PRNG' is not defined",
     "output_type": "error",
     "traceback": [
      "\u001b[1;31m---------------------------------------------------------------------------\u001b[0m",
      "\u001b[1;31mNameError\u001b[0m                                 Traceback (most recent call last)",
      "Cell \u001b[1;32mIn[7], line 5\u001b[0m\n\u001b[0;32m      3\u001b[0m berSigmaNRZ \u001b[38;5;241m=\u001b[39m[]\n\u001b[0;32m      4\u001b[0m \u001b[38;5;28;01mfor\u001b[39;00m s \u001b[38;5;129;01min\u001b[39;00m sigma:\n\u001b[1;32m----> 5\u001b[0m     data \u001b[38;5;241m=\u001b[39m LOCAL_PRNG\u001b[38;5;241m.\u001b[39mrandint(low \u001b[38;5;241m=\u001b[39m \u001b[38;5;241m0\u001b[39m, high \u001b[38;5;241m=\u001b[39m \u001b[38;5;241m2\u001b[39m, size \u001b[38;5;241m=\u001b[39m SAMPLE_SIZE)\n\u001b[0;32m      6\u001b[0m     modulatedData, pam4Symbols, pam4SymbolsPrecoded \u001b[38;5;241m=\u001b[39m mf\u001b[38;5;241m.\u001b[39mmodulatePAM4(data, grayCoding\u001b[38;5;241m=\u001b[39m\u001b[38;5;28;01mFalse\u001b[39;00m, precoding\u001b[38;5;241m=\u001b[39m\u001b[38;5;28;01mFalse\u001b[39;00m)\n\u001b[0;32m      7\u001b[0m     noisyDataPam4 \u001b[38;5;241m=\u001b[39m modulatedData \u001b[38;5;241m+\u001b[39m np\u001b[38;5;241m.\u001b[39mrandom\u001b[38;5;241m.\u001b[39mnormal(\u001b[38;5;241m0\u001b[39m, s, \u001b[38;5;28mlen\u001b[39m(modulatedData))\n",
      "\u001b[1;31mNameError\u001b[0m: name 'LOCAL_PRNG' is not defined"
     ]
    }
   ],
   "source": [
    "# Now just sigma\n",
    "berSigmaPam4 = []\n",
    "berSigmaNRZ =[]\n",
    "for s in sigma:\n",
    "    data = LOCAL_PRNG.randint(low = 0, high = 2, size = SAMPLE_SIZE)\n",
    "    modulatedData, pam4Symbols, pam4SymbolsPrecoded = mf.modulatePAM4(data, grayCoding=False, precoding=False)\n",
    "    noisyDataPam4 = modulatedData + np.random.normal(0, s, len(modulatedData))\n",
    "    noisyDataNRZ = mf.modulatePAM2(data) + np.random.normal(0, s, len(data))\n",
    "    pam4Symbols, error = mf.pam4Slice(noisyDataPam4)\n",
    "    dataRxNRZ = mf.slicer(noisyDataNRZ)\n",
    "    dataRxPam4 = mf.pam4SymbolsToBits(pam4Symbols, grayCoded= False)\n",
    "    berPam4 = np.sum(dataRxPam4 != data) / SAMPLE_SIZE\n",
    "    berNRZ = np.sum(dataRxNRZ != data) / SAMPLE_SIZE\n",
    "    berSigmaPam4.append(berPam4)\n",
    "    berSigmaNRZ.append(berNRZ)\n",
    "\n",
    "fig, ax = plt.subplots()\n",
    "#pam4Simulated = ax.semilogy(ebn0, np.array(berData), '^b', linewidth = 2, label = 'PAM 4 Uncoded simulated')\n",
    "#pam4GrayCodedSimulated = ax.semilogy(ebn0, np.array(berGrayCoded), '*g', linewidth = 2, label = 'PAM 4 Gray coded simulated')\n",
    "#pam4UncodedMatlab = ax.semilogy(ebn0, berPam4UncodedMATLAB, '^r', linewidth = 2, label = 'PAM 4 Uncoded MATLAB')\n",
    "pam4AccordingToSigma = ax.semilogy(sigma, berSigmaPam4, '^k', linewidth = 2, label = 'PAM 4 Uncoded sigma only')\n",
    "NRZAccordingToSigma = ax.semilogy(sigma, berSigmaNRZ, 'd', linewidth = 2, label = 'NRZ sigma only')\n",
    "ax.set_ylabel('Output Bit Error Ratio (BER)',fontsize=16)\n",
    "ax.set_xlabel('Sigma only',fontsize=16)\n",
    "ax.tick_params(axis='both',  labelsize=16)\n",
    "ax.grid(True, which=\"both\")\n",
    "ax.minorticks_on()\n",
    "ax.invert_xaxis()\n",
    "plt.show()\n"
   ]
  },
  {
   "cell_type": "code",
   "execution_count": 8,
   "id": "6969ff2e",
   "metadata": {},
   "outputs": [
    {
     "ename": "NameError",
     "evalue": "name 'special' is not defined",
     "output_type": "error",
     "traceback": [
      "\u001b[1;31m---------------------------------------------------------------------------\u001b[0m",
      "\u001b[1;31mNameError\u001b[0m                                 Traceback (most recent call last)",
      "Cell \u001b[1;32mIn[8], line 8\u001b[0m\n\u001b[0;32m      6\u001b[0m snrProakisNRZ_5_2_6 \u001b[38;5;241m=\u001b[39m np\u001b[38;5;241m.\u001b[39msqrt((dNrz \u001b[38;5;241m*\u001b[39m\u001b[38;5;241m*\u001b[39m \u001b[38;5;241m2\u001b[39m) \u001b[38;5;241m/\u001b[39m  (\u001b[38;5;241m2\u001b[39m \u001b[38;5;241m*\u001b[39m sigma))\n\u001b[0;32m      7\u001b[0m snrProakisNRZ_5_2_6_DB \u001b[38;5;241m=\u001b[39m \u001b[38;5;241m10\u001b[39m \u001b[38;5;241m*\u001b[39m np\u001b[38;5;241m.\u001b[39mlog10(np\u001b[38;5;241m.\u001b[39msqrt((dNrz \u001b[38;5;241m*\u001b[39m\u001b[38;5;241m*\u001b[39m \u001b[38;5;241m2\u001b[39m) \u001b[38;5;241m/\u001b[39m  (\u001b[38;5;241m2\u001b[39m \u001b[38;5;241m*\u001b[39m sigma)))\n\u001b[1;32m----> 8\u001b[0m berProakis_5_2_6 \u001b[38;5;241m=\u001b[39m Q(snrProakisNRZ_5_2_6)\n\u001b[0;32m      9\u001b[0m fig, ax \u001b[38;5;241m=\u001b[39m plt\u001b[38;5;241m.\u001b[39msubplots()\n\u001b[0;32m     10\u001b[0m nrzAccordingToProakis_5_2_6 \u001b[38;5;241m=\u001b[39m ax\u001b[38;5;241m.\u001b[39msemilogy(berProakis_5_2_6, snrProakisNRZ_5_2_6, \u001b[38;5;124m'\u001b[39m\u001b[38;5;124m^k\u001b[39m\u001b[38;5;124m'\u001b[39m, linewidth \u001b[38;5;241m=\u001b[39m \u001b[38;5;241m2\u001b[39m, label \u001b[38;5;241m=\u001b[39m \u001b[38;5;124m'\u001b[39m\u001b[38;5;124mNRZ BER as a function of d^2\u001b[39m\u001b[38;5;124m'\u001b[39m)\n",
      "Cell \u001b[1;32mIn[8], line 2\u001b[0m, in \u001b[0;36mQ\u001b[1;34m(x)\u001b[0m\n\u001b[0;32m      1\u001b[0m \u001b[38;5;28;01mdef\u001b[39;00m \u001b[38;5;21mQ\u001b[39m(x):\n\u001b[1;32m----> 2\u001b[0m     result \u001b[38;5;241m=\u001b[39m \u001b[38;5;241m0.5\u001b[39m \u001b[38;5;241m*\u001b[39m special\u001b[38;5;241m.\u001b[39merfc((\u001b[38;5;241m1\u001b[39m \u001b[38;5;241m/\u001b[39m np\u001b[38;5;241m.\u001b[39msqrt(\u001b[38;5;241m2\u001b[39m)) \u001b[38;5;241m*\u001b[39m x)\n\u001b[0;32m      3\u001b[0m     \u001b[38;5;28;01mreturn\u001b[39;00m result\n",
      "\u001b[1;31mNameError\u001b[0m: name 'special' is not defined"
     ]
    }
   ],
   "source": [
    "def Q(x):\n",
    "    result = 0.5 * special.erfc((1 / np.sqrt(2)) * x)\n",
    "    return result\n",
    "dNrz = 2\n",
    "\n",
    "snrProakisNRZ_5_2_6 = np.sqrt((dNrz ** 2) /  (2 * sigma))\n",
    "snrProakisNRZ_5_2_6_DB = 10 * np.log10(np.sqrt((dNrz ** 2) /  (2 * sigma)))\n",
    "berProakis_5_2_6 = Q(snrProakisNRZ_5_2_6)\n",
    "fig, ax = plt.subplots()\n",
    "nrzAccordingToProakis_5_2_6 = ax.semilogy(berProakis_5_2_6, snrProakisNRZ_5_2_6, '^k', linewidth = 2, label = 'NRZ BER as a function of d^2')\n",
    "ax.set_title('NRZ as a function of d^2, from Proakis')\n",
    "ax.set_ylabel('Output Bit Error Ratio (BER)',fontsize=16)\n",
    "ax.set_xlabel('d^2 / 2 * sigma',fontsize=16)\n",
    "ax.tick_params(axis='both',  labelsize=16)\n",
    "ax.grid(True, which=\"both\")\n",
    "ax.minorticks_on()\n",
    "#ax.invert_xaxis()\n",
    "plt.show()"
   ]
  },
  {
   "cell_type": "code",
   "execution_count": null,
   "id": "48de3727",
   "metadata": {},
   "outputs": [],
   "source": []
  },
  {
   "cell_type": "code",
   "execution_count": 37,
   "id": "8e50324a",
   "metadata": {},
   "outputs": [
    {
     "data": {
      "text/plain": [
       "0.8"
      ]
     },
     "execution_count": 37,
     "metadata": {},
     "output_type": "execute_result"
    }
   ],
   "source": []
  },
  {
   "cell_type": "code",
   "execution_count": null,
   "id": "90216231",
   "metadata": {},
   "outputs": [],
   "source": []
  }
 ],
 "metadata": {
  "kernelspec": {
   "display_name": "Python 3 (ipykernel)",
   "language": "python",
   "name": "python3"
  },
  "language_info": {
   "codemirror_mode": {
    "name": "ipython",
    "version": 3
   },
   "file_extension": ".py",
   "mimetype": "text/x-python",
   "name": "python",
   "nbconvert_exporter": "python",
   "pygments_lexer": "ipython3",
   "version": "3.11.5"
  }
 },
 "nbformat": 4,
 "nbformat_minor": 5
}
