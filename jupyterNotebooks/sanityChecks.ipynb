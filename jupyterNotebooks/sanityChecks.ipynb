{
 "cells": [
  {
   "cell_type": "markdown",
   "id": "390b5644",
   "metadata": {},
   "source": [
    "# Sanity check for BCH decoding\n",
    "## Import modules. \n",
    "Two projects are needed: reedSolomon and IEEE8023, so either the user defines environement variables, or (if None), use the hardcoded path."
   ]
  },
  {
   "cell_type": "code",
   "execution_count": 1,
   "id": "8f539816",
   "metadata": {},
   "outputs": [],
   "source": [
    "import os, sys\n",
    "reedSolomonProjectDir = os.environ.get('REEDSOLOMON')\n",
    "if reedSolomonProjectDir == None: \n",
    "     reedSolomonProjectDir = \"c:/users/omer/reedSolomon/reedSolomon/\"\n",
    "sys.path.insert(0, reedSolomonProjectDir)\n",
    "import os, sys\n",
    "ieeeProjectDir = os.environ.get('IEEE8023')\n",
    "if ieeeProjectDir == None: \n",
    "     ieeeProjectDir = \"c:/users/omer/802.3/\"\n",
    "sys.path.insert(0, ieeeProjectDir)\n",
    "import numpy as np\n",
    "from arithmetic import generateExponentAndLogTables, polynomial, gf128, binaryFieldElement as gf2\n",
    "from bchDecoder import bchDecoder\n",
    "from ieee8023dj_d0p1 import bchEncoder\n",
    "from graphics import plotSNRvsBER\n",
    "import modulationFunctions as mf\n",
    "import channelFunctions as cf\n",
    "localPrng = np.random.RandomState(seed = 8023)"
   ]
  },
  {
   "cell_type": "markdown",
   "id": "e28057f5",
   "metadata": {},
   "source": [
    "## Binary symmetric channel decoding: \n",
    "encode random data using a generator matrix that is equivalent to encoding using the generator polynomial g(x) = ... . Decode using a hard decision BCH decoder."
   ]
  },
  {
   "cell_type": "code",
   "execution_count": 4,
   "id": "f3ce335b",
   "metadata": {},
   "outputs": [
    {
     "ename": "NameError",
     "evalue": "name 'r' is not defined",
     "output_type": "error",
     "traceback": [
      "\u001b[1;31m---------------------------------------------------------------------------\u001b[0m",
      "\u001b[1;31mNameError\u001b[0m                                 Traceback (most recent call last)",
      "Cell \u001b[1;32mIn[4], line 25\u001b[0m\n\u001b[0;32m     23\u001b[0m encodedBinaryData \u001b[38;5;241m=\u001b[39m bchEncoder(binaryData, G \u001b[38;5;241m=\u001b[39m generatorMatrix)\n\u001b[0;32m     24\u001b[0m errorVector \u001b[38;5;241m=\u001b[39m np\u001b[38;5;241m.\u001b[39mrandom\u001b[38;5;241m.\u001b[39mbinomial(\u001b[38;5;241m1\u001b[39m,p,\u001b[38;5;241m126\u001b[39m)\n\u001b[1;32m---> 25\u001b[0m rawBER \u001b[38;5;241m=\u001b[39m r\n\u001b[0;32m     26\u001b[0m encodedBinaryData \u001b[38;5;241m=\u001b[39m (encodedBinaryData \u001b[38;5;241m+\u001b[39m error) \u001b[38;5;241m%\u001b[39m\u001b[38;5;241m2\u001b[39m\n\u001b[0;32m     27\u001b[0m correctedVector, correctionVector, errorLocatorX \u001b[38;5;241m=\u001b[39m bchDecoder( receivedBinaryVecotor \u001b[38;5;241m=\u001b[39m encodedBinaryData,\n\u001b[0;32m     28\u001b[0m                                                               exponentDictionary \u001b[38;5;241m=\u001b[39m eD,\n\u001b[0;32m     29\u001b[0m                                                               numberOfPowers \u001b[38;5;241m=\u001b[39m \u001b[38;5;241m16\u001b[39m,\n\u001b[0;32m     30\u001b[0m                                                               codewordLengthMaximal \u001b[38;5;241m=\u001b[39m \u001b[38;5;241m127\u001b[39m)\n",
      "\u001b[1;31mNameError\u001b[0m: name 'r' is not defined"
     ]
    }
   ],
   "source": [
    "\n",
    "eD, _ =  generateExponentAndLogTables()\n",
    "generatorMatrix = np.load(\"c:/users/omer/802.3/bchMatrixEncoder.npy\")\n",
    "berPam2 = np.array([5.6282e-02, 5.2216e-02, 4.8301e-02, 4.4541e-02, 4.0942e-02,\n",
    "            3.7506e-02, 3.4238e-02, 3.1140e-02, 2.8214e-02, 2.5460e-02,\n",
    "            2.2878e-02, 2.0469e-02, 1.8229e-02, 1.6157e-02, 1.4249e-02,\n",
    "            1.2501e-02, 1.0907e-02, 9.4624e-03, 8.1600e-03, 6.9930e-03,\n",
    "            5.9539e-03, 5.0346e-03, 4.2269e-03, 3.5223e-03, 2.9123e-03,\n",
    "            2.3883e-03, 1.9419e-03, 1.5648e-03, 1.2492e-03, 9.8751e-04,\n",
    "            7.7267e-04, 5.9812e-04, 4.5782e-04, 3.4634e-04, 2.5880e-04,\n",
    "            1.9091e-04, 1.3894e-04, 9.9706e-05, 7.0501e-05, 4.9086e-05,\n",
    "            3.3627e-05, 2.2650e-05, 1.4989e-05, 9.7362e-06, 6.2027e-06,\n",
    "            3.8721e-06, 2.3663e-06, 1.4142e-06, 8.2572e-07, 4.7048e-07,\n",
    "            2.6131e-07, 1.4130e-07])\n",
    "berPam2 = np.array([2.3883e-03, 1.9419e-03, 1.5648e-03, 1.2492e-03, 9.8751e-04,\n",
    "            7.7267e-04, 5.9812e-04, 4.5782e-04, 3.4634e-04, 2.5880e-04])\n",
    "bscBerStats = []\n",
    "rawBer = []\n",
    "for p in berPam2:  \n",
    "    rawErrors = 0\n",
    "    errors = 0\n",
    "    for i in range(10):\n",
    "        binaryData = np.random.randint(0,2,110)\n",
    "        encodedBinaryData = bchEncoder(binaryData, G = generatorMatrix)\n",
    "        errorVector = np.random.binomial(1,p,126)\n",
    "        rawBER = r\n",
    "        encodedBinaryData = (encodedBinaryData + error) %2\n",
    "        correctedVector, correctionVector, errorLocatorX = bchDecoder( receivedBinaryVecotor = encodedBinaryData,\n",
    "                                                                      exponentDictionary = eD,\n",
    "                                                                      numberOfPowers = 16,\n",
    "                                                                      codewordLengthMaximal = 127)\n",
    "        errors = error + np.sum(correctedVector != encodedBinaryData)\n",
    "        rawErrors = rawErrors + np.sum(error)\n",
    "    bscBerStats.append(error)"
   ]
  },
  {
   "cell_type": "markdown",
   "id": "c056b78d",
   "metadata": {},
   "source": [
    "## AWGN simulation:\n",
    "Encode data, modulate to PAM2, add gaussian white noise, demodulate, decode"
   ]
  },
  {
   "cell_type": "code",
   "execution_count": 3,
   "id": "0a981760",
   "metadata": {},
   "outputs": [
    {
     "ename": "ValueError",
     "evalue": "shape mismatch: objects cannot be broadcast to a single shape.  Mismatch is between arg 0 with shape (63,) and arg 2 with shape (76,).",
     "output_type": "error",
     "traceback": [
      "\u001b[1;31m---------------------------------------------------------------------------\u001b[0m",
      "\u001b[1;31mValueError\u001b[0m                                Traceback (most recent call last)",
      "Cell \u001b[1;32mIn[3], line 15\u001b[0m\n\u001b[0;32m     13\u001b[0m encodedBinaryData \u001b[38;5;241m=\u001b[39m bchEncoder(binaryData, G \u001b[38;5;241m=\u001b[39m generatorMatrix)\n\u001b[0;32m     14\u001b[0m modulated \u001b[38;5;241m=\u001b[39m mf\u001b[38;5;241m.\u001b[39mmodulatePAM4(encodedBinaryData)\n\u001b[1;32m---> 15\u001b[0m noisy, sigma, sigmaActual \u001b[38;5;241m=\u001b[39m cf\u001b[38;5;241m.\u001b[39madditiveWhiteGaussianNoise(modulated, length \u001b[38;5;241m=\u001b[39m \u001b[38;5;28mlen\u001b[39m(modulated), SNRdb \u001b[38;5;241m=\u001b[39m s, prng \u001b[38;5;241m=\u001b[39m localPrng)\n\u001b[0;32m     16\u001b[0m demodulated \u001b[38;5;241m=\u001b[39m mf\u001b[38;5;241m.\u001b[39mpam4Slicer(noisy)\n\u001b[0;32m     17\u001b[0m correctedVector, correctionVector, errorLocatorX \u001b[38;5;241m=\u001b[39m bchDecoder( receivedBinaryVecotor \u001b[38;5;241m=\u001b[39m demodulated,\n\u001b[0;32m     18\u001b[0m                                                               exponentDictionary \u001b[38;5;241m=\u001b[39m eD,\n\u001b[0;32m     19\u001b[0m                                                               numberOfPowers \u001b[38;5;241m=\u001b[39m \u001b[38;5;241m16\u001b[39m,\n\u001b[0;32m     20\u001b[0m                                                               codewordLengthMaximal \u001b[38;5;241m=\u001b[39m \u001b[38;5;241m127\u001b[39m)\n",
      "File \u001b[1;32mc:\\users/omer/802.3\\channelFunctions.py:28\u001b[0m, in \u001b[0;36madditiveWhiteGaussianNoise\u001b[1;34m(vector, length, SNRdb, prng)\u001b[0m\n\u001b[0;32m     26\u001b[0m \u001b[38;5;66;03m## Now use the definition: SNR = signal^2 / sigma^2\u001b[39;00m\n\u001b[0;32m     27\u001b[0m sigma \u001b[38;5;241m=\u001b[39m np\u001b[38;5;241m.\u001b[39msqrt(\u001b[38;5;241m0.5\u001b[39m \u001b[38;5;241m/\u001b[39m SNR)\n\u001b[1;32m---> 28\u001b[0m noise \u001b[38;5;241m=\u001b[39m prng\u001b[38;5;241m.\u001b[39mnormal(\u001b[38;5;241m0\u001b[39m, sigma, length)\n\u001b[0;32m     29\u001b[0m sigmaActual \u001b[38;5;241m=\u001b[39m np\u001b[38;5;241m.\u001b[39msqrt((np\u001b[38;5;241m.\u001b[39msum(noise \u001b[38;5;241m*\u001b[39m\u001b[38;5;241m*\u001b[39m \u001b[38;5;241m2\u001b[39m)) \u001b[38;5;241m/\u001b[39m length)\n\u001b[0;32m     30\u001b[0m noisyVector \u001b[38;5;241m=\u001b[39m vector \u001b[38;5;241m+\u001b[39m noise\n",
      "File \u001b[1;32mmtrand.pyx:1540\u001b[0m, in \u001b[0;36mnumpy.random.mtrand.RandomState.normal\u001b[1;34m()\u001b[0m\n",
      "File \u001b[1;32m_common.pyx:600\u001b[0m, in \u001b[0;36mnumpy.random._common.cont\u001b[1;34m()\u001b[0m\n",
      "File \u001b[1;32m_common.pyx:517\u001b[0m, in \u001b[0;36mnumpy.random._common.cont_broadcast_2\u001b[1;34m()\u001b[0m\n",
      "File \u001b[1;32m__init__.pxd:741\u001b[0m, in \u001b[0;36mnumpy.PyArray_MultiIterNew3\u001b[1;34m()\u001b[0m\n",
      "\u001b[1;31mValueError\u001b[0m: shape mismatch: objects cannot be broadcast to a single shape.  Mismatch is between arg 0 with shape (63,) and arg 2 with shape (76,)."
     ]
    }
   ],
   "source": [
    " snrBaseline = np.array([[ 1. ,  1.2,  1.4,  1.6,  1.8,  2. ,  2.2,  2.4,  2.6,  2.8,  3. ,\n",
    "             3.2,  3.4,  3.6,  3.8,  4. ,  4.2,  4.4,  4.6,  4.8,  5. ,  5.2,\n",
    "             5.4,  5.6,  5.8,  6. ,  6.2,  6.4,  6.6,  6.8,  7. ,  7.2,  7.4,\n",
    "             7.6,  7.8,  8. ,  8.2,  8.4,  8.6,  8.8,  9. ,  9.2,  9.4,  9.6,\n",
    "             9.8, 10. , 10.2, 10.4, 10.6, 10.8, 11. , 11.2, 11.4, 11.6, 11.8,\n",
    "            12. , 12.2, 12.4, 12.6, 12.8, 13. , 13.2, 13.4, 13.6, 13.8, 14. ,\n",
    "            14.2, 14.4, 14.6, 14.8, 15. , 15.2, 15.4, 15.6, 15.8, 16. ]])\n",
    "berStats = []\n",
    "for s in snrBaseline:  \n",
    "    error = 0\n",
    "    for i in range(10):\n",
    "        binaryData = np.random.randint(0,2,110)\n",
    "        encodedBinaryData = bchEncoder(binaryData, G = generatorMatrix)\n",
    "        modulated = mf.modulatePAM4(encodedBinaryData)\n",
    "        noisy, sigma, sigmaActual = cf.additiveWhiteGaussianNoise(modulated, length = len(modulated), SNRdb = s, prng = localPrng)\n",
    "        demodulated = mf.pam4Slicer(noisy)\n",
    "        correctedVector, correctionVector, errorLocatorX = bchDecoder( receivedBinaryVecotor = demodulated,\n",
    "                                                                      exponentDictionary = eD,\n",
    "                                                                      numberOfPowers = 16,\n",
    "                                                                      codewordLengthMaximal = 127)\n",
    "        error = error + np.sum(correctedVector != encodedBinaryData)\n",
    "    awgnBerStats.append(error)"
   ]
  },
  {
   "cell_type": "code",
   "execution_count": 21,
   "id": "dda2cd99",
   "metadata": {},
   "outputs": [
    {
     "data": {
      "text/plain": [
       "[]"
      ]
     },
     "execution_count": 21,
     "metadata": {},
     "output_type": "execute_result"
    }
   ],
   "source": [
    "berStats"
   ]
  },
  {
   "cell_type": "code",
   "execution_count": null,
   "id": "1dc6676d",
   "metadata": {},
   "outputs": [],
   "source": []
  }
 ],
 "metadata": {
  "kernelspec": {
   "display_name": "Python 3 (ipykernel)",
   "language": "python",
   "name": "python3"
  },
  "language_info": {
   "codemirror_mode": {
    "name": "ipython",
    "version": 3
   },
   "file_extension": ".py",
   "mimetype": "text/x-python",
   "name": "python",
   "nbconvert_exporter": "python",
   "pygments_lexer": "ipython3",
   "version": "3.11.5"
  }
 },
 "nbformat": 4,
 "nbformat_minor": 5
}
