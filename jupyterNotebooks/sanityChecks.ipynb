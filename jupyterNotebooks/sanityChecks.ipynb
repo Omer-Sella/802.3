{
 "cells": [
  {
   "cell_type": "code",
   "execution_count": 5,
   "id": "8f539816",
   "metadata": {},
   "outputs": [],
   "source": [
    "import os, sys\n",
    "reedSolomonProjectDir = os.environ.get('REEDSOLOMON')\n",
    "if reedSolomonProjectDir == None: \n",
    "     reedSolomonProjectDir = \"c:/users/omer/reedSolomon/reedSolomon/\"\n",
    "sys.path.insert(0, reedSolomonProjectDir)\n",
    "import numpy as np\n",
    "from arithmetic import generateExponentAndLogTables, polynomial, gf128, binaryFieldElement as gf2\n",
    "from bchDecoder import bchDecoder"
   ]
  },
  {
   "cell_type": "code",
   "execution_count": 4,
   "id": "f3ce335b",
   "metadata": {},
   "outputs": [
    {
     "ename": "NameError",
     "evalue": "name 'encodedBinaryData' is not defined",
     "output_type": "error",
     "traceback": [
      "\u001b[1;31m---------------------------------------------------------------------------\u001b[0m",
      "\u001b[1;31mNameError\u001b[0m                                 Traceback (most recent call last)",
      "Cell \u001b[1;32mIn[4], line 19\u001b[0m\n\u001b[0;32m     17\u001b[0m \u001b[38;5;28;01mfor\u001b[39;00m i \u001b[38;5;129;01min\u001b[39;00m \u001b[38;5;28mrange\u001b[39m(\u001b[38;5;241m10\u001b[39m):\n\u001b[0;32m     18\u001b[0m     errorVector \u001b[38;5;241m=\u001b[39m np\u001b[38;5;241m.\u001b[39mrandom\u001b[38;5;241m.\u001b[39mbinomial(\u001b[38;5;241m1\u001b[39m,p,\u001b[38;5;241m126\u001b[39m)\n\u001b[1;32m---> 19\u001b[0m     encodedBinaryData[errorLocations] \u001b[38;5;241m=\u001b[39m (encodedBinaryData \u001b[38;5;241m+\u001b[39m error) \u001b[38;5;241m%\u001b[39m\u001b[38;5;241m2\u001b[39m\n\u001b[0;32m     20\u001b[0m     correctedVector, correctionVector, errorLocatorX \u001b[38;5;241m=\u001b[39m bchDecoder( receivedBinaryVecotor \u001b[38;5;241m=\u001b[39m encodedBinaryData,\n\u001b[0;32m     21\u001b[0m                                                                   exponentDictionary \u001b[38;5;241m=\u001b[39m eD,\n\u001b[0;32m     22\u001b[0m                                                                   numberOfPowers \u001b[38;5;241m=\u001b[39m \u001b[38;5;241m16\u001b[39m,\n\u001b[0;32m     23\u001b[0m                                                                   codewordLengthMaximal \u001b[38;5;241m=\u001b[39m \u001b[38;5;241m127\u001b[39m)\n\u001b[0;32m     24\u001b[0m     error \u001b[38;5;241m=\u001b[39m error \u001b[38;5;241m+\u001b[39m np\u001b[38;5;241m.\u001b[39msum(correctedVector \u001b[38;5;241m!=\u001b[39m encodedBinaryData)\n",
      "\u001b[1;31mNameError\u001b[0m: name 'encodedBinaryData' is not defined"
     ]
    }
   ],
   "source": [
    "eD, _ =  generateExponentAndLogTables()\n",
    "berPam2 = np.array([5.6282e-02, 5.2216e-02, 4.8301e-02, 4.4541e-02, 4.0942e-02,\n",
    "            3.7506e-02, 3.4238e-02, 3.1140e-02, 2.8214e-02, 2.5460e-02,\n",
    "            2.2878e-02, 2.0469e-02, 1.8229e-02, 1.6157e-02, 1.4249e-02,\n",
    "            1.2501e-02, 1.0907e-02, 9.4624e-03, 8.1600e-03, 6.9930e-03,\n",
    "            5.9539e-03, 5.0346e-03, 4.2269e-03, 3.5223e-03, 2.9123e-03,\n",
    "            2.3883e-03, 1.9419e-03, 1.5648e-03, 1.2492e-03, 9.8751e-04,\n",
    "            7.7267e-04, 5.9812e-04, 4.5782e-04, 3.4634e-04, 2.5880e-04,\n",
    "            1.9091e-04, 1.3894e-04, 9.9706e-05, 7.0501e-05, 4.9086e-05,\n",
    "            3.3627e-05, 2.2650e-05, 1.4989e-05, 9.7362e-06, 6.2027e-06,\n",
    "            3.8721e-06, 2.3663e-06, 1.4142e-06, 8.2572e-07, 4.7048e-07,\n",
    "            2.6131e-07, 1.4130e-07])\n",
    "binaryData = np.random.randint(0,2,110)\n",
    "berStats = []\n",
    "for p in berPam2:  \n",
    "    error = 0\n",
    "    for i in range(10):\n",
    "        errorVector = np.random.binomial(1,p,126)\n",
    "        encodedBinaryData[errorLocations] = (encodedBinaryData + error) %2\n",
    "        correctedVector, correctionVector, errorLocatorX = bchDecoder( receivedBinaryVecotor = encodedBinaryData,\n",
    "                                                                      exponentDictionary = eD,\n",
    "                                                                      numberOfPowers = 16,\n",
    "                                                                      codewordLengthMaximal = 127)\n",
    "        error = error + np.sum(correctedVector != encodedBinaryData)\n",
    "    berStats.append(error)"
   ]
  },
  {
   "cell_type": "code",
   "execution_count": 2,
   "id": "d55a34a0",
   "metadata": {},
   "outputs": [
    {
     "ename": "ModuleNotFoundError",
     "evalue": "No module named 'arithmetic'",
     "output_type": "error",
     "traceback": [
      "\u001b[1;31m---------------------------------------------------------------------------\u001b[0m",
      "\u001b[1;31mModuleNotFoundError\u001b[0m                       Traceback (most recent call last)",
      "Cell \u001b[1;32mIn[2], line 1\u001b[0m\n\u001b[1;32m----> 1\u001b[0m \u001b[38;5;28;01mfrom\u001b[39;00m \u001b[38;5;21;01marithmetic\u001b[39;00m \u001b[38;5;28;01mimport\u001b[39;00m generateExponentAndLogTables\n",
      "\u001b[1;31mModuleNotFoundError\u001b[0m: No module named 'arithmetic'"
     ]
    }
   ],
   "source": []
  },
  {
   "cell_type": "code",
   "execution_count": 6,
   "id": "0a981760",
   "metadata": {},
   "outputs": [],
   "source": []
  },
  {
   "cell_type": "code",
   "execution_count": null,
   "id": "dda2cd99",
   "metadata": {},
   "outputs": [],
   "source": []
  }
 ],
 "metadata": {
  "kernelspec": {
   "display_name": "Python 3 (ipykernel)",
   "language": "python",
   "name": "python3"
  },
  "language_info": {
   "codemirror_mode": {
    "name": "ipython",
    "version": 3
   },
   "file_extension": ".py",
   "mimetype": "text/x-python",
   "name": "python",
   "nbconvert_exporter": "python",
   "pygments_lexer": "ipython3",
   "version": "3.11.5"
  }
 },
 "nbformat": 4,
 "nbformat_minor": 5
}
