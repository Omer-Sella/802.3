{
 "cells": [
  {
   "cell_type": "code",
   "execution_count": 2,
   "id": "3f024c04",
   "metadata": {},
   "outputs": [
    {
     "ename": "NameError",
     "evalue": "name 'bitsTx' is not defined",
     "output_type": "error",
     "traceback": [
      "\u001b[1;31m---------------------------------------------------------------------------\u001b[0m",
      "\u001b[1;31mNameError\u001b[0m                                 Traceback (most recent call last)",
      "Cell \u001b[1;32mIn[2], line 10\u001b[0m\n\u001b[0;32m      8\u001b[0m \u001b[38;5;28;01mimport\u001b[39;00m \u001b[38;5;21;01mmatplotlib\u001b[39;00m\u001b[38;5;21;01m.\u001b[39;00m\u001b[38;5;21;01mpyplot\u001b[39;00m \u001b[38;5;28;01mas\u001b[39;00m \u001b[38;5;21;01mplt\u001b[39;00m\n\u001b[0;32m      9\u001b[0m binaryData \u001b[38;5;241m=\u001b[39m np\u001b[38;5;241m.\u001b[39mrandom\u001b[38;5;241m.\u001b[39mrandint(\u001b[38;5;241m0\u001b[39m,\u001b[38;5;241m2\u001b[39m,\u001b[38;5;241m100\u001b[39m)\n\u001b[1;32m---> 10\u001b[0m modulatedVector, pam4SymbolsTx, pam4SymbolsPrecoded \u001b[38;5;241m=\u001b[39m mf\u001b[38;5;241m.\u001b[39mmodulatePAM4(bitsTx, grayCoding \u001b[38;5;241m=\u001b[39m \u001b[38;5;28;01mTrue\u001b[39;00m, precoding \u001b[38;5;241m=\u001b[39m \u001b[38;5;28;01mFalse\u001b[39;00m)\n\u001b[0;32m     11\u001b[0m quantizedSignal \u001b[38;5;241m=\u001b[39m mf\u001b[38;5;241m.\u001b[39mpam4Quantize(modulatedVector)\n\u001b[0;32m     12\u001b[0m fig, ax \u001b[38;5;241m=\u001b[39m plt\u001b[38;5;241m.\u001b[39msubplots()\n",
      "\u001b[1;31mNameError\u001b[0m: name 'bitsTx' is not defined"
     ]
    }
   ],
   "source": [
    "import os, sys\n",
    "ieeeProjectDir = os.environ.get('IEEE8023')\n",
    "if ieeeProjectDir == None: \n",
    "     ieeeProjectDir = \"c:/users/omer/802.3/\"\n",
    "sys.path.insert(0, ieeeProjectDir)\n",
    "import numpy as np\n",
    "import modulationFunctions as mf\n",
    "import matplotlib.pyplot as plt\n",
    "binaryData = np.random.randint(0,2,100)\n",
    "modulatedVector, pam4SymbolsTx, pam4SymbolsPrecoded = mf.modulatePAM4(binaryData, grayCoding = True, precoding = False)\n",
    "quantizedSignal = mf.pam4Quantize(modulatedVector)\n",
    "fig, ax = plt.subplots()\n",
    "ax.plot(modulatedVector)\n",
    "ax.plot(quantizedSignal)\n",
    "\n",
    "pam4SymbolsRx, errorAbsoluteValue = pam4Slice(modulatedVector)\n",
    "bitsRx = pam4SymbolsToBits(pam4SymbolsRx, grayCoded = True)"
   ]
  },
  {
   "cell_type": "code",
   "execution_count": null,
   "id": "6457bd00",
   "metadata": {},
   "outputs": [],
   "source": []
  }
 ],
 "metadata": {
  "kernelspec": {
   "display_name": "Python 3 (ipykernel)",
   "language": "python",
   "name": "python3"
  },
  "language_info": {
   "codemirror_mode": {
    "name": "ipython",
    "version": 3
   },
   "file_extension": ".py",
   "mimetype": "text/x-python",
   "name": "python",
   "nbconvert_exporter": "python",
   "pygments_lexer": "ipython3",
   "version": "3.11.5"
  }
 },
 "nbformat": 4,
 "nbformat_minor": 5
}
