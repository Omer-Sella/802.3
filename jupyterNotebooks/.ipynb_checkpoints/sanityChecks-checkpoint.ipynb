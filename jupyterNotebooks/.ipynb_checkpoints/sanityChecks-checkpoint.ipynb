{
 "cells": [
  {
   "cell_type": "markdown",
   "id": "fc0895cd",
   "metadata": {},
   "source": [
    "# Sanity check for BCH decoding\n",
    "## Import modules. \n",
    "Two projects are needed: reedSolomon and IEEE8023, so either the user defines environement variables, or (if None), use the hardcoded path."
   ]
  },
  {
   "cell_type": "code",
   "execution_count": 12,
   "id": "8f539816",
   "metadata": {},
   "outputs": [],
   "source": [
    "import os, sys\n",
    "reedSolomonProjectDir = os.environ.get('REEDSOLOMON')\n",
    "if reedSolomonProjectDir == None: \n",
    "     reedSolomonProjectDir = \"c:/users/omer/reedSolomon/reedSolomon/\"\n",
    "sys.path.insert(0, reedSolomonProjectDir)\n",
    "import os, sys\n",
    "ieeeProjectDir = os.environ.get('IEEE8023')\n",
    "if ieeeProjectDir == None: \n",
    "     ieeeProjectDir = \"c:/users/omer/802.3/\"\n",
    "sys.path.insert(0, ieeeProjectDir)\n",
    "import numpy as np\n",
    "from arithmetic import generateExponentAndLogTables, polynomial, gf128, binaryFieldElement as gf2\n",
    "from bchDecoder import bchDecoder\n",
    "from ieee8023dj_d0p1 import bchEncoder\n",
    "from graphics import plotSNRvsBER"
   ]
  },
  {
   "cell_type": "markdown",
   "id": "2ce4e5ad",
   "metadata": {},
   "source": [
    "## Binary symmetric channel decoding: \n",
    "encode random data using a generator matrix that is equivalent to encoding using the generator polynomial g(x) = ... . Decode using a hard decision BCH decoder."
   ]
  },
  {
   "cell_type": "code",
   "execution_count": 7,
   "id": "f3ce335b",
   "metadata": {},
   "outputs": [],
   "source": [
    "\n",
    "eD, _ =  generateExponentAndLogTables()\n",
    "generatorMatrix = np.load(\"c:/users/omer/802.3/bchMatrixEncoder.npy\")\n",
    "berPam2 = np.array([5.6282e-02, 5.2216e-02, 4.8301e-02, 4.4541e-02, 4.0942e-02,\n",
    "            3.7506e-02, 3.4238e-02, 3.1140e-02, 2.8214e-02, 2.5460e-02,\n",
    "            2.2878e-02, 2.0469e-02, 1.8229e-02, 1.6157e-02, 1.4249e-02,\n",
    "            1.2501e-02, 1.0907e-02, 9.4624e-03, 8.1600e-03, 6.9930e-03,\n",
    "            5.9539e-03, 5.0346e-03, 4.2269e-03, 3.5223e-03, 2.9123e-03,\n",
    "            2.3883e-03, 1.9419e-03, 1.5648e-03, 1.2492e-03, 9.8751e-04,\n",
    "            7.7267e-04, 5.9812e-04, 4.5782e-04, 3.4634e-04, 2.5880e-04,\n",
    "            1.9091e-04, 1.3894e-04, 9.9706e-05, 7.0501e-05, 4.9086e-05,\n",
    "            3.3627e-05, 2.2650e-05, 1.4989e-05, 9.7362e-06, 6.2027e-06,\n",
    "            3.8721e-06, 2.3663e-06, 1.4142e-06, 8.2572e-07, 4.7048e-07,\n",
    "            2.6131e-07, 1.4130e-07])\n",
    "berPam2 = np.array([2.3883e-03, 1.9419e-03, 1.5648e-03, 1.2492e-03, 9.8751e-04,\n",
    "            7.7267e-04, 5.9812e-04, 4.5782e-04, 3.4634e-04, 2.5880e-04])\n",
    "berStats = []\n",
    "for p in berPam2:  \n",
    "    error = 0\n",
    "    for i in range(10):\n",
    "        binaryData = np.random.randint(0,2,110)\n",
    "        encodedBinaryData = bchEncoder(binaryData, G = generatorMatrix)\n",
    "        errorVector = np.random.binomial(1,p,126)\n",
    "        encodedBinaryData = (encodedBinaryData + error) %2\n",
    "        correctedVector, correctionVector, errorLocatorX = bchDecoder( receivedBinaryVecotor = encodedBinaryData,\n",
    "                                                                      exponentDictionary = eD,\n",
    "                                                                      numberOfPowers = 16,\n",
    "                                                                      codewordLengthMaximal = 127)\n",
    "        error = error + np.sum(correctedVector != encodedBinaryData)\n",
    "    berStats.append(error)"
   ]
  },
  {
   "cell_type": "markdown",
   "id": "13109bf7",
   "metadata": {},
   "source": [
    "## AWGN simulation:\n",
    "Encode data, modulate to PAM2, add gaussian white noise, demodulate, decode"
   ]
  },
  {
   "cell_type": "code",
   "execution_count": 9,
   "id": "0a981760",
   "metadata": {},
   "outputs": [
    {
     "name": "stdout",
     "output_type": "stream",
     "text": [
      "[20, 20, 20, 20, 20, 20, 20, 20, 20, 20]\n"
     ]
    }
   ],
   "source": [
    " snrBaseline = np.array([[ 1. ,  1.2,  1.4,  1.6,  1.8,  2. ,  2.2,  2.4,  2.6,  2.8,  3. ,\n",
    "             3.2,  3.4,  3.6,  3.8,  4. ,  4.2,  4.4,  4.6,  4.8,  5. ,  5.2,\n",
    "             5.4,  5.6,  5.8,  6. ,  6.2,  6.4,  6.6,  6.8,  7. ,  7.2,  7.4,\n",
    "             7.6,  7.8,  8. ,  8.2,  8.4,  8.6,  8.8,  9. ,  9.2,  9.4,  9.6,\n",
    "             9.8, 10. , 10.2, 10.4, 10.6, 10.8, 11. , 11.2, 11.4, 11.6, 11.8,\n",
    "            12. , 12.2, 12.4, 12.6, 12.8, 13. , 13.2, 13.4, 13.6, 13.8, 14. ,\n",
    "            14.2, 14.4, 14.6, 14.8, 15. , 15.2, 15.4, 15.6, 15.8, 16. ]])\n",
    "berStats = []\n",
    "for p in berPam2:  \n",
    "    error = 0\n",
    "    for i in range(10):\n",
    "        binaryData = np.random.randint(0,2,110)\n",
    "        encodedBinaryData = bchEncoder(binaryData, G = generatorMatrix)\n",
    "        errorVector = np.random.binomial(1,p,126)\n",
    "        encodedBinaryData = (encodedBinaryData + error) %2\n",
    "        correctedVector, correctionVector, errorLocatorX = bchDecoder( receivedBinaryVecotor = encodedBinaryData,\n",
    "                                                                      exponentDictionary = eD,\n",
    "                                                                      numberOfPowers = 16,\n",
    "                                                                      codewordLengthMaximal = 127)\n",
    "        error = error + np.sum(correctedVector != encodedBinaryData)\n",
    "    berStats.append(error)"
   ]
  },
  {
   "cell_type": "code",
   "execution_count": null,
   "id": "dda2cd99",
   "metadata": {},
   "outputs": [],
   "source": []
  }
 ],
 "metadata": {
  "kernelspec": {
   "display_name": "Python 3 (ipykernel)",
   "language": "python",
   "name": "python3"
  },
  "language_info": {
   "codemirror_mode": {
    "name": "ipython",
    "version": 3
   },
   "file_extension": ".py",
   "mimetype": "text/x-python",
   "name": "python",
   "nbconvert_exporter": "python",
   "pygments_lexer": "ipython3",
   "version": "3.11.5"
  }
 },
 "nbformat": 4,
 "nbformat_minor": 5
}
